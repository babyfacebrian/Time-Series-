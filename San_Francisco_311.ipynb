{
 "cells": [
  {
   "cell_type": "code",
   "execution_count": 1,
   "metadata": {
    "collapsed": false
   },
   "outputs": [],
   "source": [
    "import pandas as pd \n",
    "import numpy as np\n",
    "from __future__ import unicode_literals\n",
    "import matplotlib.pyplot as plt\n",
    "%matplotlib inline\n",
    "import seaborn as sns\n",
    "import warnings\n",
    "warnings.filterwarnings(\"ignore\")\n"
   ]
  },
  {
   "cell_type": "code",
   "execution_count": 2,
   "metadata": {
    "collapsed": false
   },
   "outputs": [],
   "source": [
    "sf_data = pd.read_csv(\"/Users/briankalinowski/Desktop/Kaggle/Case_Data_from_San_Francisco_311__SF311.csv\")"
   ]
  },
  {
   "cell_type": "code",
   "execution_count": 3,
   "metadata": {
    "collapsed": false
   },
   "outputs": [
    {
     "data": {
      "text/html": [
       "<div>\n",
       "<table border=\"1\" class=\"dataframe\">\n",
       "  <thead>\n",
       "    <tr style=\"text-align: right;\">\n",
       "      <th></th>\n",
       "      <th>CaseID</th>\n",
       "      <th>Opened</th>\n",
       "      <th>Closed</th>\n",
       "      <th>Updated</th>\n",
       "      <th>Status</th>\n",
       "      <th>Status Notes</th>\n",
       "      <th>Responsible Agency</th>\n",
       "      <th>Category</th>\n",
       "      <th>Request Type</th>\n",
       "      <th>Request Details</th>\n",
       "      <th>Address</th>\n",
       "      <th>Supervisor District</th>\n",
       "      <th>Neighborhood</th>\n",
       "      <th>Point</th>\n",
       "      <th>Source</th>\n",
       "      <th>Media URL</th>\n",
       "    </tr>\n",
       "  </thead>\n",
       "  <tbody>\n",
       "    <tr>\n",
       "      <th>0</th>\n",
       "      <td>322571</td>\n",
       "      <td>11/30/2008 11:53:00 PM</td>\n",
       "      <td>12/01/2008 03:19:00 PM</td>\n",
       "      <td>12/01/2008 03:19:00 PM</td>\n",
       "      <td>Closed</td>\n",
       "      <td>NaN</td>\n",
       "      <td>PUC - Electric/Power - G</td>\n",
       "      <td>General Requests</td>\n",
       "      <td>puc - electric - request_for_service</td>\n",
       "      <td>puc - electric - request_for_service</td>\n",
       "      <td>Intersection of 21ST ST and CAPP ST</td>\n",
       "      <td>9.0</td>\n",
       "      <td>Mission</td>\n",
       "      <td>(37.7571008516766, -122.417811874214)</td>\n",
       "      <td>Voice In</td>\n",
       "      <td>NaN</td>\n",
       "    </tr>\n",
       "    <tr>\n",
       "      <th>1</th>\n",
       "      <td>322568</td>\n",
       "      <td>11/30/2008 11:13:00 PM</td>\n",
       "      <td>07/21/2009 04:24:00 PM</td>\n",
       "      <td>07/21/2009 04:24:00 PM</td>\n",
       "      <td>Closed</td>\n",
       "      <td>NaN</td>\n",
       "      <td>DPW Ops Queue</td>\n",
       "      <td>Illegal Postings</td>\n",
       "      <td>Illegal Postings - Posting_Too_Large_in_Size</td>\n",
       "      <td>Posting_Too_Large_in_Size on Sidewalk</td>\n",
       "      <td>Intersection of BUSH ST and VAN NESS AVE</td>\n",
       "      <td>3.0</td>\n",
       "      <td>Nob Hill</td>\n",
       "      <td>(37.7884895281133, -122.421948485141)</td>\n",
       "      <td>Voice In</td>\n",
       "      <td>NaN</td>\n",
       "    </tr>\n",
       "    <tr>\n",
       "      <th>2</th>\n",
       "      <td>322567</td>\n",
       "      <td>11/30/2008 11:07:00 PM</td>\n",
       "      <td>12/27/2008 06:07:00 AM</td>\n",
       "      <td>12/27/2008 06:07:00 AM</td>\n",
       "      <td>Closed</td>\n",
       "      <td>NaN</td>\n",
       "      <td>DPW Ops Queue</td>\n",
       "      <td>Illegal Postings</td>\n",
       "      <td>Illegal Postings - Affixed_Improperly</td>\n",
       "      <td>Affixed_Improperly on Sidewalk</td>\n",
       "      <td>Intersection of EUCLID AVE and MASONIC AVE</td>\n",
       "      <td>2.0</td>\n",
       "      <td>Western Addition</td>\n",
       "      <td>(37.7850837365507, -122.447620029034)</td>\n",
       "      <td>Voice In</td>\n",
       "      <td>NaN</td>\n",
       "    </tr>\n",
       "    <tr>\n",
       "      <th>3</th>\n",
       "      <td>322566</td>\n",
       "      <td>11/30/2008 10:56:00 PM</td>\n",
       "      <td>07/21/2009 04:24:00 PM</td>\n",
       "      <td>07/21/2009 04:24:00 PM</td>\n",
       "      <td>Closed</td>\n",
       "      <td>NaN</td>\n",
       "      <td>DPW Ops Queue</td>\n",
       "      <td>Street and Sidewalk Cleaning</td>\n",
       "      <td>Sidewalk_Cleaning</td>\n",
       "      <td>Garbage</td>\n",
       "      <td>1566 HYDE ST, SAN FRANCISCO, CA, 94109</td>\n",
       "      <td>3.0</td>\n",
       "      <td>Nob Hill</td>\n",
       "      <td>(37.795328529, -122.418067787)</td>\n",
       "      <td>Voice In</td>\n",
       "      <td>NaN</td>\n",
       "    </tr>\n",
       "    <tr>\n",
       "      <th>4</th>\n",
       "      <td>322565</td>\n",
       "      <td>11/30/2008 10:46:00 PM</td>\n",
       "      <td>12/13/2008 10:50:00 AM</td>\n",
       "      <td>12/13/2008 10:50:00 AM</td>\n",
       "      <td>Closed</td>\n",
       "      <td>NaN</td>\n",
       "      <td>RPD Park Service Area GGP Queue</td>\n",
       "      <td>Rec and Park Requests</td>\n",
       "      <td>Park - Structural_Maintenance</td>\n",
       "      <td>Other</td>\n",
       "      <td>GGP Panhandle, SAN FRANCISCO, CA, 94117</td>\n",
       "      <td>5.0</td>\n",
       "      <td>Haight Ashbury</td>\n",
       "      <td>(37.772204762, -122.4487004)</td>\n",
       "      <td>Voice In</td>\n",
       "      <td>NaN</td>\n",
       "    </tr>\n",
       "  </tbody>\n",
       "</table>\n",
       "</div>"
      ],
      "text/plain": [
       "   CaseID                  Opened                  Closed  \\\n",
       "0  322571  11/30/2008 11:53:00 PM  12/01/2008 03:19:00 PM   \n",
       "1  322568  11/30/2008 11:13:00 PM  07/21/2009 04:24:00 PM   \n",
       "2  322567  11/30/2008 11:07:00 PM  12/27/2008 06:07:00 AM   \n",
       "3  322566  11/30/2008 10:56:00 PM  07/21/2009 04:24:00 PM   \n",
       "4  322565  11/30/2008 10:46:00 PM  12/13/2008 10:50:00 AM   \n",
       "\n",
       "                  Updated  Status Status Notes  \\\n",
       "0  12/01/2008 03:19:00 PM  Closed          NaN   \n",
       "1  07/21/2009 04:24:00 PM  Closed          NaN   \n",
       "2  12/27/2008 06:07:00 AM  Closed          NaN   \n",
       "3  07/21/2009 04:24:00 PM  Closed          NaN   \n",
       "4  12/13/2008 10:50:00 AM  Closed          NaN   \n",
       "\n",
       "                Responsible Agency                      Category  \\\n",
       "0         PUC - Electric/Power - G              General Requests   \n",
       "1                    DPW Ops Queue              Illegal Postings   \n",
       "2                    DPW Ops Queue              Illegal Postings   \n",
       "3                    DPW Ops Queue  Street and Sidewalk Cleaning   \n",
       "4  RPD Park Service Area GGP Queue         Rec and Park Requests   \n",
       "\n",
       "                                   Request Type  \\\n",
       "0          puc - electric - request_for_service   \n",
       "1  Illegal Postings - Posting_Too_Large_in_Size   \n",
       "2         Illegal Postings - Affixed_Improperly   \n",
       "3                             Sidewalk_Cleaning   \n",
       "4                 Park - Structural_Maintenance   \n",
       "\n",
       "                         Request Details  \\\n",
       "0   puc - electric - request_for_service   \n",
       "1  Posting_Too_Large_in_Size on Sidewalk   \n",
       "2         Affixed_Improperly on Sidewalk   \n",
       "3                                Garbage   \n",
       "4                                  Other   \n",
       "\n",
       "                                      Address  Supervisor District  \\\n",
       "0         Intersection of 21ST ST and CAPP ST                  9.0   \n",
       "1    Intersection of BUSH ST and VAN NESS AVE                  3.0   \n",
       "2  Intersection of EUCLID AVE and MASONIC AVE                  2.0   \n",
       "3      1566 HYDE ST, SAN FRANCISCO, CA, 94109                  3.0   \n",
       "4     GGP Panhandle, SAN FRANCISCO, CA, 94117                  5.0   \n",
       "\n",
       "       Neighborhood                                  Point    Source Media URL  \n",
       "0           Mission  (37.7571008516766, -122.417811874214)  Voice In       NaN  \n",
       "1          Nob Hill  (37.7884895281133, -122.421948485141)  Voice In       NaN  \n",
       "2  Western Addition  (37.7850837365507, -122.447620029034)  Voice In       NaN  \n",
       "3          Nob Hill         (37.795328529, -122.418067787)  Voice In       NaN  \n",
       "4    Haight Ashbury           (37.772204762, -122.4487004)  Voice In       NaN  "
      ]
     },
     "execution_count": 3,
     "metadata": {},
     "output_type": "execute_result"
    }
   ],
   "source": [
    "sf_data.head()"
   ]
  },
  {
   "cell_type": "markdown",
   "metadata": {},
   "source": [
    "### Exploring the Data "
   ]
  },
  {
   "cell_type": "code",
   "execution_count": 4,
   "metadata": {
    "collapsed": false
   },
   "outputs": [
    {
     "data": {
      "text/html": [
       "<div>\n",
       "<table border=\"1\" class=\"dataframe\">\n",
       "  <thead>\n",
       "    <tr style=\"text-align: right;\">\n",
       "      <th></th>\n",
       "      <th>CaseID</th>\n",
       "      <th>Supervisor District</th>\n",
       "    </tr>\n",
       "  </thead>\n",
       "  <tbody>\n",
       "    <tr>\n",
       "      <th>count</th>\n",
       "      <td>2.022095e+06</td>\n",
       "      <td>2.015465e+06</td>\n",
       "    </tr>\n",
       "    <tr>\n",
       "      <th>mean</th>\n",
       "      <td>3.385673e+06</td>\n",
       "      <td>6.088375e+00</td>\n",
       "    </tr>\n",
       "    <tr>\n",
       "      <th>std</th>\n",
       "      <td>2.136129e+06</td>\n",
       "      <td>3.114490e+00</td>\n",
       "    </tr>\n",
       "    <tr>\n",
       "      <th>min</th>\n",
       "      <td>1.855800e+05</td>\n",
       "      <td>-1.000000e+00</td>\n",
       "    </tr>\n",
       "    <tr>\n",
       "      <th>25%</th>\n",
       "      <td>1.028610e+06</td>\n",
       "      <td>NaN</td>\n",
       "    </tr>\n",
       "    <tr>\n",
       "      <th>50%</th>\n",
       "      <td>3.682364e+06</td>\n",
       "      <td>NaN</td>\n",
       "    </tr>\n",
       "    <tr>\n",
       "      <th>75%</th>\n",
       "      <td>5.344011e+06</td>\n",
       "      <td>NaN</td>\n",
       "    </tr>\n",
       "    <tr>\n",
       "      <th>max</th>\n",
       "      <td>6.724114e+06</td>\n",
       "      <td>1.100000e+01</td>\n",
       "    </tr>\n",
       "  </tbody>\n",
       "</table>\n",
       "</div>"
      ],
      "text/plain": [
       "             CaseID  Supervisor District\n",
       "count  2.022095e+06         2.015465e+06\n",
       "mean   3.385673e+06         6.088375e+00\n",
       "std    2.136129e+06         3.114490e+00\n",
       "min    1.855800e+05        -1.000000e+00\n",
       "25%    1.028610e+06                  NaN\n",
       "50%    3.682364e+06                  NaN\n",
       "75%    5.344011e+06                  NaN\n",
       "max    6.724114e+06         1.100000e+01"
      ]
     },
     "execution_count": 4,
     "metadata": {},
     "output_type": "execute_result"
    }
   ],
   "source": [
    "sf_data.describe()"
   ]
  },
  {
   "cell_type": "code",
   "execution_count": 5,
   "metadata": {
    "collapsed": false
   },
   "outputs": [
    {
     "data": {
      "text/plain": [
       "Index([u'CaseID', u'Opened', u'Closed', u'Updated', u'Status', u'Status Notes',\n",
       "       u'Responsible Agency', u'Category', u'Request Type', u'Request Details',\n",
       "       u'Address', u'Supervisor District', u'Neighborhood', u'Point',\n",
       "       u'Source', u'Media URL'],\n",
       "      dtype='object')"
      ]
     },
     "execution_count": 5,
     "metadata": {},
     "output_type": "execute_result"
    }
   ],
   "source": [
    "#checkout our columns\n",
    "sf_data.columns\n"
   ]
  },
  {
   "cell_type": "code",
   "execution_count": 6,
   "metadata": {
    "collapsed": false
   },
   "outputs": [
    {
     "data": {
      "text/plain": [
       "CaseID                   int64\n",
       "Opened                  object\n",
       "Closed                  object\n",
       "Updated                 object\n",
       "Status                  object\n",
       "Status Notes            object\n",
       "Responsible Agency      object\n",
       "Category                object\n",
       "Request Type            object\n",
       "Request Details         object\n",
       "Address                 object\n",
       "Supervisor District    float64\n",
       "Neighborhood            object\n",
       "Point                   object\n",
       "Source                  object\n",
       "Media URL               object\n",
       "dtype: object"
      ]
     },
     "execution_count": 6,
     "metadata": {},
     "output_type": "execute_result"
    }
   ],
   "source": [
    "sf_data.dtypes"
   ]
  },
  {
   "cell_type": "code",
   "execution_count": 7,
   "metadata": {
    "collapsed": false
   },
   "outputs": [
    {
     "data": {
      "text/plain": [
       "<matplotlib.axes._subplots.AxesSubplot at 0x1194941d0>"
      ]
     },
     "execution_count": 7,
     "metadata": {},
     "output_type": "execute_result"
    },
    {
     "data": {
      "image/png": "[encoded data removed]",
      "text/plain": [
       "<matplotlib.figure.Figure at 0x119494c50>"
      ]
     },
     "metadata": {},
     "output_type": "display_data"
    }
   ],
   "source": [
    "# Category Frequency (top 10)\n",
    "sf_data.Category.value_counts(ascending=False)[0:10].plot(kind='bar')"
   ]
  },
  {
   "cell_type": "code",
   "execution_count": 8,
   "metadata": {
    "collapsed": false
   },
   "outputs": [
    {
     "data": {
      "text/plain": [
       "<matplotlib.axes._subplots.AxesSubplot at 0x105d2da90>"
      ]
     },
     "execution_count": 8,
     "metadata": {},
     "output_type": "execute_result"
    },
    {
     "data": {
      "image/png": "[encoded data removed]",
      "text/plain": [
       "<matplotlib.figure.Figure at 0x105cd59d0>"
      ]
     },
     "metadata": {},
     "output_type": "display_data"
    }
   ],
   "source": [
    "# Category Frequency (10 - 28)\n",
    "sf_data.Category.value_counts(ascending=False)[10:].plot(kind='bar')"
   ]
  },
  {
   "cell_type": "code",
   "execution_count": 9,
   "metadata": {
    "collapsed": false
   },
   "outputs": [
    {
     "data": {
      "text/plain": [
       "<matplotlib.axes._subplots.AxesSubplot at 0x11a601ad0>"
      ]
     },
     "execution_count": 9,
     "metadata": {},
     "output_type": "execute_result"
    },
    {
     "data": {
      "image/png": "[encoded data removed]",
      "text/plain": [
       "<matplotlib.figure.Figure at 0x119f27b10>"
      ]
     },
     "metadata": {},
     "output_type": "display_data"
    }
   ],
   "source": [
    "# number of requests per Neighborhood \n",
    "sf_data.Neighborhood.value_counts(ascending=False)[0:10].plot(kind='bar')"
   ]
  },
  {
   "cell_type": "code",
   "execution_count": 10,
   "metadata": {
    "collapsed": false
   },
   "outputs": [
    {
     "name": "stdout",
     "output_type": "stream",
     "text": [
      "Closed    1925132\n",
      "Open        96963\n",
      "Name: Status, dtype: int64\n"
     ]
    },
    {
     "data": {
      "text/plain": [
       "<matplotlib.axes._subplots.AxesSubplot at 0x11a638150>"
      ]
     },
     "execution_count": 10,
     "metadata": {},
     "output_type": "execute_result"
    },
    {
     "data": {
      "image/png": "[encoded data removed]",
      "text/plain": [
       "<matplotlib.figure.Figure at 0x11b90ed90>"
      ]
     },
     "metadata": {},
     "output_type": "display_data"
    }
   ],
   "source": [
    "#Most cases, are close but quite a few open.\n",
    "\n",
    "print sf_data.Status.value_counts(ascending=False)\n",
    "sf_data.Status.value_counts(ascending=False).plot(kind='Bar')"
   ]
  },
  {
   "cell_type": "code",
   "execution_count": 11,
   "metadata": {
    "collapsed": false
   },
   "outputs": [
    {
     "data": {
      "text/plain": [
       "<matplotlib.axes._subplots.AxesSubplot at 0x11bb3e790>"
      ]
     },
     "execution_count": 11,
     "metadata": {},
     "output_type": "execute_result"
    },
    {
     "data": {
      "image/png": "[encoded data removed]",
      "text/plain": [
       "<matplotlib.figure.Figure at 0x11bcf4790>"
      ]
     },
     "metadata": {},
     "output_type": "display_data"
    }
   ],
   "source": [
    "#Categories of open requests\n",
    "\n",
    "open_req = sf_data.query('Status == [\"Open\"]')\n",
    "open_req.Category.value_counts(ascending=False)[0:15].plot(kind='bar')"
   ]
  },
  {
   "cell_type": "code",
   "execution_count": 12,
   "metadata": {
    "collapsed": false
   },
   "outputs": [
    {
     "name": "stdout",
     "output_type": "stream",
     "text": [
      "Voice In             1195231\n",
      "Open311               431776\n",
      "Web Self Service      283443\n",
      "Integrated Agency      83098\n",
      "Twitter                23434\n",
      "Other Department        4073\n",
      "e-mail In                998\n",
      "Mail In                    4\n",
      "Name: Source, dtype: int64\n"
     ]
    },
    {
     "data": {
      "text/plain": [
       "<matplotlib.axes._subplots.AxesSubplot at 0x11c21dc90>"
      ]
     },
     "execution_count": 12,
     "metadata": {},
     "output_type": "execute_result"
    },
    {
     "data": {
      "image/png": "[encoded data removed]",
      "text/plain": [
       "<matplotlib.figure.Figure at 0x11bdf4cd0>"
      ]
     },
     "metadata": {},
     "output_type": "display_data"
    }
   ],
   "source": [
    "# Sources of 311 requests \n",
    "print sf_data.Source.value_counts(ascending=False) \n",
    "\n",
    "sf_data.Source.value_counts(ascending=False).plot(kind='bar')"
   ]
  },
  {
   "cell_type": "code",
   "execution_count": 13,
   "metadata": {
    "collapsed": false
   },
   "outputs": [
    {
     "data": {
      "text/html": [
       "<div>\n",
       "<table border=\"1\" class=\"dataframe\">\n",
       "  <thead>\n",
       "    <tr style=\"text-align: right;\">\n",
       "      <th></th>\n",
       "      <th>CaseID</th>\n",
       "      <th>Opened</th>\n",
       "      <th>Closed</th>\n",
       "      <th>Updated</th>\n",
       "      <th>Status</th>\n",
       "      <th>Status Notes</th>\n",
       "      <th>Responsible Agency</th>\n",
       "      <th>Category</th>\n",
       "      <th>Request Type</th>\n",
       "      <th>Request Details</th>\n",
       "      <th>Address</th>\n",
       "      <th>Supervisor District</th>\n",
       "      <th>Neighborhood</th>\n",
       "      <th>Point</th>\n",
       "      <th>Source</th>\n",
       "      <th>Media URL</th>\n",
       "    </tr>\n",
       "  </thead>\n",
       "  <tbody>\n",
       "    <tr>\n",
       "      <th>697261</th>\n",
       "      <td>3596474</td>\n",
       "      <td>04/29/2014 11:06:38 AM</td>\n",
       "      <td>06/17/2015 11:01:53 AM</td>\n",
       "      <td>06/17/2015 11:01:53 AM</td>\n",
       "      <td>Closed</td>\n",
       "      <td>Case Resolved - CITATION DISMISSED PCO ERROR</td>\n",
       "      <td>SFMTA - Parking Enforcement - G</td>\n",
       "      <td>General Requests</td>\n",
       "      <td>mta - parking_enforcement - complaint</td>\n",
       "      <td>mta - parking_enforcement - complaint</td>\n",
       "      <td>Not associated with a specific address</td>\n",
       "      <td>0.0</td>\n",
       "      <td>NaN</td>\n",
       "      <td>NaN</td>\n",
       "      <td>Mail In</td>\n",
       "      <td>NaN</td>\n",
       "    </tr>\n",
       "    <tr>\n",
       "      <th>958946</th>\n",
       "      <td>2287428</td>\n",
       "      <td>04/25/2013 11:32:15 AM</td>\n",
       "      <td>04/25/2013 01:29:17 PM</td>\n",
       "      <td>04/25/2013 01:29:17 PM</td>\n",
       "      <td>Closed</td>\n",
       "      <td>Case Resolved - vehicle cited by pco 7J31</td>\n",
       "      <td>SFMTA - Parking Enforcement - G</td>\n",
       "      <td>General Requests</td>\n",
       "      <td>mta - parking_enforcement - request_for_service</td>\n",
       "      <td>mta - parking_enforcement - request_for_service</td>\n",
       "      <td>755 OCEAN AVE, SAN FRANCISCO, CA, 94112</td>\n",
       "      <td>7.0</td>\n",
       "      <td>Oceanview</td>\n",
       "      <td>(37.72281420212, -122.4489344645)</td>\n",
       "      <td>Mail In</td>\n",
       "      <td>NaN</td>\n",
       "    </tr>\n",
       "    <tr>\n",
       "      <th>1230541</th>\n",
       "      <td>6063056</td>\n",
       "      <td>07/08/2016 11:37:44 AM</td>\n",
       "      <td>07/08/2016 11:42:30 AM</td>\n",
       "      <td>07/08/2016 11:42:30 AM</td>\n",
       "      <td>Closed</td>\n",
       "      <td>Case Resolved - PCO E67, 1 CITE</td>\n",
       "      <td>SFMTA - Parking Enforcement - G</td>\n",
       "      <td>General Requests</td>\n",
       "      <td>mta - parking_enforcement - complaint</td>\n",
       "      <td>mta - parking_enforcement - complaint</td>\n",
       "      <td>Not associated with a specific address</td>\n",
       "      <td>0.0</td>\n",
       "      <td>NaN</td>\n",
       "      <td>NaN</td>\n",
       "      <td>Mail In</td>\n",
       "      <td>NaN</td>\n",
       "    </tr>\n",
       "    <tr>\n",
       "      <th>1853324</th>\n",
       "      <td>5320420</td>\n",
       "      <td>11/25/2015 02:48:35 PM</td>\n",
       "      <td>11/25/2015 02:59:48 PM</td>\n",
       "      <td>11/25/2015 02:59:48 PM</td>\n",
       "      <td>Closed</td>\n",
       "      <td>Case Resolved - COMPLAINT WAS GIVEN TO OFFICER...</td>\n",
       "      <td>SFMTA - Parking Enforcement - G</td>\n",
       "      <td>General Requests</td>\n",
       "      <td>mta - parking_enforcement - request_for_service</td>\n",
       "      <td>mta - parking_enforcement - request_for_service</td>\n",
       "      <td>401 LOS PALMOS DR, SAN FRANCISCO, CA, 94127</td>\n",
       "      <td>7.0</td>\n",
       "      <td>Miraloma Park</td>\n",
       "      <td>(37.734368481798, -122.450754430929)</td>\n",
       "      <td>Mail In</td>\n",
       "      <td>NaN</td>\n",
       "    </tr>\n",
       "  </tbody>\n",
       "</table>\n",
       "</div>"
      ],
      "text/plain": [
       "          CaseID                  Opened                  Closed  \\\n",
       "697261   3596474  04/29/2014 11:06:38 AM  06/17/2015 11:01:53 AM   \n",
       "958946   2287428  04/25/2013 11:32:15 AM  04/25/2013 01:29:17 PM   \n",
       "1230541  6063056  07/08/2016 11:37:44 AM  07/08/2016 11:42:30 AM   \n",
       "1853324  5320420  11/25/2015 02:48:35 PM  11/25/2015 02:59:48 PM   \n",
       "\n",
       "                        Updated  Status  \\\n",
       "697261   06/17/2015 11:01:53 AM  Closed   \n",
       "958946   04/25/2013 01:29:17 PM  Closed   \n",
       "1230541  07/08/2016 11:42:30 AM  Closed   \n",
       "1853324  11/25/2015 02:59:48 PM  Closed   \n",
       "\n",
       "                                              Status Notes  \\\n",
       "697261        Case Resolved - CITATION DISMISSED PCO ERROR   \n",
       "958946           Case Resolved - vehicle cited by pco 7J31   \n",
       "1230541                    Case Resolved - PCO E67, 1 CITE   \n",
       "1853324  Case Resolved - COMPLAINT WAS GIVEN TO OFFICER...   \n",
       "\n",
       "                      Responsible Agency          Category  \\\n",
       "697261   SFMTA - Parking Enforcement - G  General Requests   \n",
       "958946   SFMTA - Parking Enforcement - G  General Requests   \n",
       "1230541  SFMTA - Parking Enforcement - G  General Requests   \n",
       "1853324  SFMTA - Parking Enforcement - G  General Requests   \n",
       "\n",
       "                                            Request Type  \\\n",
       "697261             mta - parking_enforcement - complaint   \n",
       "958946   mta - parking_enforcement - request_for_service   \n",
       "1230541            mta - parking_enforcement - complaint   \n",
       "1853324  mta - parking_enforcement - request_for_service   \n",
       "\n",
       "                                         Request Details  \\\n",
       "697261             mta - parking_enforcement - complaint   \n",
       "958946   mta - parking_enforcement - request_for_service   \n",
       "1230541            mta - parking_enforcement - complaint   \n",
       "1853324  mta - parking_enforcement - request_for_service   \n",
       "\n",
       "                                             Address  Supervisor District  \\\n",
       "697261        Not associated with a specific address                  0.0   \n",
       "958946       755 OCEAN AVE, SAN FRANCISCO, CA, 94112                  7.0   \n",
       "1230541       Not associated with a specific address                  0.0   \n",
       "1853324  401 LOS PALMOS DR, SAN FRANCISCO, CA, 94127                  7.0   \n",
       "\n",
       "          Neighborhood                                 Point   Source  \\\n",
       "697261             NaN                                   NaN  Mail In   \n",
       "958946       Oceanview     (37.72281420212, -122.4489344645)  Mail In   \n",
       "1230541            NaN                                   NaN  Mail In   \n",
       "1853324  Miraloma Park  (37.734368481798, -122.450754430929)  Mail In   \n",
       "\n",
       "        Media URL  \n",
       "697261        NaN  \n",
       "958946        NaN  \n",
       "1230541       NaN  \n",
       "1853324       NaN  "
      ]
     },
     "execution_count": 13,
     "metadata": {},
     "output_type": "execute_result"
    }
   ],
   "source": [
    "# People still mail in this stuff?? \n",
    "\n",
    "sf_data.query('Source == [\"Mail In\"]')"
   ]
  },
  {
   "cell_type": "markdown",
   "metadata": {
    "collapsed": false
   },
   "source": [
    "### Time Series Analysis"
   ]
  },
  {
   "cell_type": "code",
   "execution_count": 14,
   "metadata": {
    "collapsed": false
   },
   "outputs": [
    {
     "data": {
      "text/plain": [
       "'01/01/2009 01:00:05 PM'"
      ]
     },
     "execution_count": 14,
     "metadata": {},
     "output_type": "execute_result"
    }
   ],
   "source": [
    "sf_data.Opened.min()\n"
   ]
  },
  {
   "cell_type": "code",
   "execution_count": 15,
   "metadata": {
    "collapsed": false
   },
   "outputs": [
    {
     "data": {
      "text/plain": [
       "inf"
      ]
     },
     "execution_count": 15,
     "metadata": {},
     "output_type": "execute_result"
    }
   ],
   "source": [
    "sf_data.Closed.min()"
   ]
  },
  {
   "cell_type": "code",
   "execution_count": 16,
   "metadata": {
    "collapsed": false
   },
   "outputs": [
    {
     "data": {
      "text/plain": [
       "'12/31/2016 12:58:10 PM'"
      ]
     },
     "execution_count": 16,
     "metadata": {},
     "output_type": "execute_result"
    }
   ],
   "source": [
    "sf_data.Opened.max()"
   ]
  },
  {
   "cell_type": "code",
   "execution_count": 17,
   "metadata": {
    "collapsed": false
   },
   "outputs": [
    {
     "data": {
      "text/plain": [
       "'12/31/2016 12:59:05 PM'"
      ]
     },
     "execution_count": 17,
     "metadata": {},
     "output_type": "execute_result"
    }
   ],
   "source": [
    "sf_data.Closed.max()"
   ]
  },
  {
   "cell_type": "code",
   "execution_count": 18,
   "metadata": {
    "collapsed": false
   },
   "outputs": [
    {
     "data": {
      "text/html": [
       "<div>\n",
       "<table border=\"1\" class=\"dataframe\">\n",
       "  <thead>\n",
       "    <tr style=\"text-align: right;\">\n",
       "      <th></th>\n",
       "      <th>CaseID</th>\n",
       "      <th>Opened</th>\n",
       "      <th>Closed</th>\n",
       "    </tr>\n",
       "  </thead>\n",
       "  <tbody>\n",
       "    <tr>\n",
       "      <th>0</th>\n",
       "      <td>322571</td>\n",
       "      <td>11/30/2008 11:53:00 PM</td>\n",
       "      <td>12/01/2008 03:19:00 PM</td>\n",
       "    </tr>\n",
       "    <tr>\n",
       "      <th>1</th>\n",
       "      <td>322568</td>\n",
       "      <td>11/30/2008 11:13:00 PM</td>\n",
       "      <td>07/21/2009 04:24:00 PM</td>\n",
       "    </tr>\n",
       "    <tr>\n",
       "      <th>2</th>\n",
       "      <td>322567</td>\n",
       "      <td>11/30/2008 11:07:00 PM</td>\n",
       "      <td>12/27/2008 06:07:00 AM</td>\n",
       "    </tr>\n",
       "    <tr>\n",
       "      <th>3</th>\n",
       "      <td>322566</td>\n",
       "      <td>11/30/2008 10:56:00 PM</td>\n",
       "      <td>07/21/2009 04:24:00 PM</td>\n",
       "    </tr>\n",
       "    <tr>\n",
       "      <th>4</th>\n",
       "      <td>322565</td>\n",
       "      <td>11/30/2008 10:46:00 PM</td>\n",
       "      <td>12/13/2008 10:50:00 AM</td>\n",
       "    </tr>\n",
       "    <tr>\n",
       "      <th>5</th>\n",
       "      <td>322564</td>\n",
       "      <td>11/30/2008 10:43:00 PM</td>\n",
       "      <td>12/01/2008 04:07:00 PM</td>\n",
       "    </tr>\n",
       "    <tr>\n",
       "      <th>6</th>\n",
       "      <td>322560</td>\n",
       "      <td>11/30/2008 10:24:00 PM</td>\n",
       "      <td>07/21/2009 04:24:00 PM</td>\n",
       "    </tr>\n",
       "    <tr>\n",
       "      <th>7</th>\n",
       "      <td>322559</td>\n",
       "      <td>11/30/2008 10:20:00 PM</td>\n",
       "      <td>12/01/2008 06:07:00 AM</td>\n",
       "    </tr>\n",
       "    <tr>\n",
       "      <th>8</th>\n",
       "      <td>322558</td>\n",
       "      <td>11/30/2008 10:04:00 PM</td>\n",
       "      <td>11/30/2008 10:18:00 PM</td>\n",
       "    </tr>\n",
       "    <tr>\n",
       "      <th>9</th>\n",
       "      <td>322556</td>\n",
       "      <td>11/30/2008 09:34:00 PM</td>\n",
       "      <td>12/09/2008 08:07:00 AM</td>\n",
       "    </tr>\n",
       "  </tbody>\n",
       "</table>\n",
       "</div>"
      ],
      "text/plain": [
       "   CaseID                  Opened                  Closed\n",
       "0  322571  11/30/2008 11:53:00 PM  12/01/2008 03:19:00 PM\n",
       "1  322568  11/30/2008 11:13:00 PM  07/21/2009 04:24:00 PM\n",
       "2  322567  11/30/2008 11:07:00 PM  12/27/2008 06:07:00 AM\n",
       "3  322566  11/30/2008 10:56:00 PM  07/21/2009 04:24:00 PM\n",
       "4  322565  11/30/2008 10:46:00 PM  12/13/2008 10:50:00 AM\n",
       "5  322564  11/30/2008 10:43:00 PM  12/01/2008 04:07:00 PM\n",
       "6  322560  11/30/2008 10:24:00 PM  07/21/2009 04:24:00 PM\n",
       "7  322559  11/30/2008 10:20:00 PM  12/01/2008 06:07:00 AM\n",
       "8  322558  11/30/2008 10:04:00 PM  11/30/2008 10:18:00 PM\n",
       "9  322556  11/30/2008 09:34:00 PM  12/09/2008 08:07:00 AM"
      ]
     },
     "execution_count": 18,
     "metadata": {},
     "output_type": "execute_result"
    }
   ],
   "source": [
    "#Time related columns for now\n",
    "sf_time = sf_data.iloc[:,:3]\n",
    "\n",
    "sf_time.head(10)"
   ]
  },
  {
   "cell_type": "code",
   "execution_count": 25,
   "metadata": {
    "collapsed": true
   },
   "outputs": [],
   "source": [
    "startTime = sf_time.index[2]\n",
    "sf_time['elapsed'] = sf_time.index[1] - startTime"
   ]
  },
  {
   "cell_type": "code",
   "execution_count": 27,
   "metadata": {
    "collapsed": false
   },
   "outputs": [
    {
     "data": {
      "text/html": [
       "<div>\n",
       "<table border=\"1\" class=\"dataframe\">\n",
       "  <thead>\n",
       "    <tr style=\"text-align: right;\">\n",
       "      <th></th>\n",
       "      <th>CaseID</th>\n",
       "      <th>Opened</th>\n",
       "      <th>Closed</th>\n",
       "      <th>elapsed</th>\n",
       "    </tr>\n",
       "  </thead>\n",
       "  <tbody>\n",
       "    <tr>\n",
       "      <th>0</th>\n",
       "      <td>322571</td>\n",
       "      <td>11/30/2008 11:53:00 PM</td>\n",
       "      <td>12/01/2008 03:19:00 PM</td>\n",
       "      <td>-1</td>\n",
       "    </tr>\n",
       "    <tr>\n",
       "      <th>1</th>\n",
       "      <td>322568</td>\n",
       "      <td>11/30/2008 11:13:00 PM</td>\n",
       "      <td>07/21/2009 04:24:00 PM</td>\n",
       "      <td>-1</td>\n",
       "    </tr>\n",
       "    <tr>\n",
       "      <th>2</th>\n",
       "      <td>322567</td>\n",
       "      <td>11/30/2008 11:07:00 PM</td>\n",
       "      <td>12/27/2008 06:07:00 AM</td>\n",
       "      <td>-1</td>\n",
       "    </tr>\n",
       "    <tr>\n",
       "      <th>3</th>\n",
       "      <td>322566</td>\n",
       "      <td>11/30/2008 10:56:00 PM</td>\n",
       "      <td>07/21/2009 04:24:00 PM</td>\n",
       "      <td>-1</td>\n",
       "    </tr>\n",
       "    <tr>\n",
       "      <th>4</th>\n",
       "      <td>322565</td>\n",
       "      <td>11/30/2008 10:46:00 PM</td>\n",
       "      <td>12/13/2008 10:50:00 AM</td>\n",
       "      <td>-1</td>\n",
       "    </tr>\n",
       "  </tbody>\n",
       "</table>\n",
       "</div>"
      ],
      "text/plain": [
       "   CaseID                  Opened                  Closed  elapsed\n",
       "0  322571  11/30/2008 11:53:00 PM  12/01/2008 03:19:00 PM       -1\n",
       "1  322568  11/30/2008 11:13:00 PM  07/21/2009 04:24:00 PM       -1\n",
       "2  322567  11/30/2008 11:07:00 PM  12/27/2008 06:07:00 AM       -1\n",
       "3  322566  11/30/2008 10:56:00 PM  07/21/2009 04:24:00 PM       -1\n",
       "4  322565  11/30/2008 10:46:00 PM  12/13/2008 10:50:00 AM       -1"
      ]
     },
     "execution_count": 27,
     "metadata": {},
     "output_type": "execute_result"
    }
   ],
   "source": [
    "sf_time.head()"
   ]
  },
  {
   "cell_type": "code",
   "execution_count": 44,
   "metadata": {
    "collapsed": false
   },
   "outputs": [],
   "source": [
    "#?sf_time['elapsed'] = pd.DatetimeIndex(sf_time[3]).to_timedelta('D')\n",
    "\n",
    "sf_time['elapsed'] = sf_time['elapsed'].astype('timedelta64[h]')\n",
    "\n"
   ]
  },
  {
   "cell_type": "code",
   "execution_count": 45,
   "metadata": {
    "collapsed": false
   },
   "outputs": [
    {
     "data": {
      "text/html": [
       "<div>\n",
       "<table border=\"1\" class=\"dataframe\">\n",
       "  <thead>\n",
       "    <tr style=\"text-align: right;\">\n",
       "      <th></th>\n",
       "      <th>CaseID</th>\n",
       "      <th>Opened</th>\n",
       "      <th>Closed</th>\n",
       "      <th>elapsed</th>\n",
       "    </tr>\n",
       "  </thead>\n",
       "  <tbody>\n",
       "    <tr>\n",
       "      <th>0</th>\n",
       "      <td>322571</td>\n",
       "      <td>11/30/2008 11:53:00 PM</td>\n",
       "      <td>12/01/2008 03:19:00 PM</td>\n",
       "      <td>-1 days +23:00:00</td>\n",
       "    </tr>\n",
       "    <tr>\n",
       "      <th>1</th>\n",
       "      <td>322568</td>\n",
       "      <td>11/30/2008 11:13:00 PM</td>\n",
       "      <td>07/21/2009 04:24:00 PM</td>\n",
       "      <td>-1 days +23:00:00</td>\n",
       "    </tr>\n",
       "    <tr>\n",
       "      <th>2</th>\n",
       "      <td>322567</td>\n",
       "      <td>11/30/2008 11:07:00 PM</td>\n",
       "      <td>12/27/2008 06:07:00 AM</td>\n",
       "      <td>-1 days +23:00:00</td>\n",
       "    </tr>\n",
       "    <tr>\n",
       "      <th>3</th>\n",
       "      <td>322566</td>\n",
       "      <td>11/30/2008 10:56:00 PM</td>\n",
       "      <td>07/21/2009 04:24:00 PM</td>\n",
       "      <td>-1 days +23:00:00</td>\n",
       "    </tr>\n",
       "    <tr>\n",
       "      <th>4</th>\n",
       "      <td>322565</td>\n",
       "      <td>11/30/2008 10:46:00 PM</td>\n",
       "      <td>12/13/2008 10:50:00 AM</td>\n",
       "      <td>-1 days +23:00:00</td>\n",
       "    </tr>\n",
       "  </tbody>\n",
       "</table>\n",
       "</div>"
      ],
      "text/plain": [
       "   CaseID                  Opened                  Closed           elapsed\n",
       "0  322571  11/30/2008 11:53:00 PM  12/01/2008 03:19:00 PM -1 days +23:00:00\n",
       "1  322568  11/30/2008 11:13:00 PM  07/21/2009 04:24:00 PM -1 days +23:00:00\n",
       "2  322567  11/30/2008 11:07:00 PM  12/27/2008 06:07:00 AM -1 days +23:00:00\n",
       "3  322566  11/30/2008 10:56:00 PM  07/21/2009 04:24:00 PM -1 days +23:00:00\n",
       "4  322565  11/30/2008 10:46:00 PM  12/13/2008 10:50:00 AM -1 days +23:00:00"
      ]
     },
     "execution_count": 45,
     "metadata": {},
     "output_type": "execute_result"
    }
   ],
   "source": [
    "sf_time.head()"
   ]
  },
  {
   "cell_type": "code",
   "execution_count": null,
   "metadata": {
    "collapsed": true
   },
   "outputs": [],
   "source": []
  }
 ],
 "metadata": {
  "anaconda-cloud": {},
  "kernelspec": {
   "display_name": "Python [Root]",
   "language": "python",
   "name": "Python [Root]"
  },
  "language_info": {
   "codemirror_mode": {
    "name": "ipython",
    "version": 2
   },
   "file_extension": ".py",
   "mimetype": "text/x-python",
   "name": "python",
   "nbconvert_exporter": "python",
   "pygments_lexer": "ipython2",
   "version": "2.7.12"
  }
 },
 "nbformat": 4,
 "nbformat_minor": 0
}
